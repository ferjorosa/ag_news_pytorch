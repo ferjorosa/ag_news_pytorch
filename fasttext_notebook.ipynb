{
 "cells": [
  {
   "cell_type": "markdown",
   "metadata": {},
   "source": [
    "## Objective\n",
    "\n",
    "Transform the data into FastText format and learn the model. In order to do that, we have to download the AG NEWS data, iterate over its data instances and export them as a TXT file.\n",
    "\n",
    "**Note:** we have not removed special characters from the data. It should be done to improve the performance of FastText"
   ]
  },
  {
   "cell_type": "markdown",
   "metadata": {},
   "source": [
    "### 1 - Load the raw data from TorchText and generate train/validation/test datasets"
   ]
  },
  {
   "cell_type": "code",
   "execution_count": 1,
   "metadata": {},
   "outputs": [],
   "source": [
    "from torchtext.datasets import AG_NEWS\n",
    "from torch.utils.data.dataset import random_split\n",
    "from torchtext.data.functional import to_map_style_dataset\n",
    "\n",
    "train_iter, test_iter = AG_NEWS()\n",
    "\n",
    "train_dataset = to_map_style_dataset(train_iter)\n",
    "test_dataset = to_map_style_dataset(test_iter)\n",
    "\n",
    "num_train = int(len(train_dataset) * 0.95)\n",
    "split_train_, split_valid_ = \\\n",
    "    random_split(train_dataset, [num_train, len(train_dataset) - num_train])\n",
    "\n",
    "train_dataset = split_train_\n",
    "validation_dataset = split_valid_"
   ]
  },
  {
   "cell_type": "markdown",
   "metadata": {},
   "source": [
    "### 2 - Put data in FastText format"
   ]
  },
  {
   "cell_type": "code",
   "execution_count": 2,
   "metadata": {},
   "outputs": [],
   "source": [
    "def fromPyTorchToFastext(dataset):\n",
    "    string_list = []\n",
    "    label = None\n",
    "    text = None\n",
    "    s = None\n",
    "    for instance in dataset:\n",
    "        label = instance[0]\n",
    "        text = instance[1]\n",
    "        s = \"__label__\" + str(label) + \" \" + text\n",
    "        string_list.append(s)\n",
    "    return string_list\n",
    "\n",
    "def writeFasttextToFile(string_list, filePath):\n",
    "    with open(filePath, \"w\") as file:\n",
    "        for s in string_list:\n",
    "            file.write(s+\"\\n\")\n",
    "\n",
    "validation_dataset_fasttext = fromPyTorchToFastext(validation_dataset)\n",
    "writeFasttextToFile(validation_dataset_fasttext, \"fasttext_data/ag_news_validation.txt\")\n",
    "\n",
    "train_dataset_fasttext = fromPyTorchToFastext(validation_dataset)\n",
    "writeFasttextToFile(validation_dataset_fasttext, \"fasttext_data/ag_news_train.txt\")\n",
    "\n",
    "test_dataset_fasttext = fromPyTorchToFastext(test_dataset)\n",
    "writeFasttextToFile(validation_dataset_fasttext, \"fasttext_data/ag_news_test.txt\")  "
   ]
  },
  {
   "cell_type": "markdown",
   "metadata": {},
   "source": [
    "### 3 - Training"
   ]
  },
  {
   "cell_type": "code",
   "execution_count": 3,
   "metadata": {},
   "outputs": [
    {
     "name": "stderr",
     "output_type": "stream",
     "text": [
      "Read 0M words\n",
      "Number of words:  35357\n",
      "Number of labels: 4\n",
      "Progress: 100.0% words/sec/thread: 1678454 lr:  0.000000 avg.loss:  1.172119 ETA:   0h 0m 0s\n"
     ]
    }
   ],
   "source": [
    "import fasttext\n",
    "\n",
    "model = fasttext.train_supervised(input=\"fasttext_data/ag_news_train.txt\", epoch=5)"
   ]
  },
  {
   "cell_type": "markdown",
   "metadata": {},
   "source": [
    "#### 3.1 - autotune\n",
    "\n",
    "FastText provides the option to automatically search for the best set of hyperparameter (need to research a littlebit more on which of the whole set of hyperparameters are considered, e.g., if it considers epoch or the size word n-grams).\n",
    "\n",
    "Once the model has finished learning, we can extract the best set of hyperparameters by accessing the resulting object"
   ]
  },
  {
   "cell_type": "code",
   "execution_count": 7,
   "metadata": {},
   "outputs": [
    {
     "name": "stderr",
     "output_type": "stream",
     "text": [
      "Progress: 100.0% Trials:    5 Best score:  0.999667 ETA:   0h 0m 0s\n",
      "Training again with best arguments\n",
      "Read 0M words\n",
      "Number of words:  35357\n",
      "Number of labels: 4\n",
      "Progress: 100.0% words/sec/thread: 1777062 lr:  0.000000 avg.loss:  0.297760 ETA:   0h 0m 0s\n"
     ]
    }
   ],
   "source": [
    "model = fasttext.train_supervised(\n",
    "    input=\"fasttext_data/ag_news_train.txt\", \n",
    "    autotuneValidationFile=\"fasttext_data/ag_news_validation.txt\", \n",
    "    autotuneDuration=10) # seconds"
   ]
  },
  {
   "cell_type": "code",
   "execution_count": 8,
   "metadata": {},
   "outputs": [
    {
     "name": "stdout",
     "output_type": "stream",
     "text": [
      "autotuneDuration -> 10\n",
      "autotuneMetric -> f1\n",
      "autotuneModelSize -> \n",
      "autotunePredictions -> 1\n",
      "autotuneValidationFile -> fasttext_data/ag_news_validation.txt\n",
      "bucket -> 0\n",
      "cutoff -> 0\n",
      "dim -> 60\n",
      "dsub -> 2\n",
      "epoch -> 45\n",
      "input -> fasttext_data/ag_news_train.txt\n",
      "label -> __label__\n",
      "loss -> loss_name.softmax\n",
      "lr -> 0.04552101402547641\n",
      "lrUpdateRate -> 100\n",
      "maxn -> 0\n",
      "minCount -> 1\n",
      "minCountLabel -> 0\n",
      "minn -> 0\n",
      "model -> model_name.supervised\n",
      "neg -> 5\n",
      "output -> \n",
      "pretrainedVectors -> \n",
      "qnorm -> False\n",
      "qout -> False\n",
      "retrain -> False\n",
      "saveOutput -> False\n",
      "seed -> 0\n",
      "setManual -> <bound method PyCapsule.setManual of <fasttext_pybind.args object at 0x7fc21d2b63b0>>\n",
      "t -> 0.0001\n",
      "thread -> 7\n",
      "verbose -> 2\n",
      "wordNgrams -> 1\n",
      "ws -> 5\n"
     ]
    }
   ],
   "source": [
    "args_obj = model.f.getArgs()\n",
    "for hparam in dir(args_obj):\n",
    "    if not hparam.startswith('__'):\n",
    "        print(f\"{hparam} -> {getattr(args_obj, hparam)}\")"
   ]
  },
  {
   "cell_type": "markdown",
   "metadata": {},
   "source": [
    "### 4 - Evaluation"
   ]
  },
  {
   "cell_type": "code",
   "execution_count": 9,
   "metadata": {},
   "outputs": [
    {
     "data": {
      "text/plain": [
       "(6000, 0.9996666666666667, 0.9996666666666667)"
      ]
     },
     "execution_count": 9,
     "metadata": {},
     "output_type": "execute_result"
    }
   ],
   "source": [
    "model.test(\"fasttext_data/ag_news_test.txt\")"
   ]
  }
 ],
 "metadata": {
  "interpreter": {
   "hash": "d7c091c86dcdede3a40e42e3736e7ffa1e82d65bcd3790e75d25b0e8ed3294a2"
  },
  "kernelspec": {
   "display_name": "Python 3.8.10 ('.venv': venv)",
   "language": "python",
   "name": "python3"
  },
  "language_info": {
   "codemirror_mode": {
    "name": "ipython",
    "version": 3
   },
   "file_extension": ".py",
   "mimetype": "text/x-python",
   "name": "python",
   "nbconvert_exporter": "python",
   "pygments_lexer": "ipython3",
   "version": "3.8.10"
  },
  "orig_nbformat": 4
 },
 "nbformat": 4,
 "nbformat_minor": 2
}
